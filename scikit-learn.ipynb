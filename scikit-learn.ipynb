{
 "cells": [
  {
   "cell_type": "markdown",
   "metadata": {},
   "source": [
    "## Overview of the Scikit-learn Python library\n"
   ]
  },
  {
   "cell_type": "markdown",
   "metadata": {},
   "source": [
    "Scikit-learn is an open source data analysis library, and the touchstone for Machine Learning in the Python ecosystem which is build using NumPy(for graphs and visualization), SciPy(for mathematics), Matplotlib and by making algorithmic decision-making methods, including:\n",
    "Classification, Regression, Clustering.\n",
    "<br>\n",
    "Classification: Identifying and categorizing data based on patterns including K-Nearest Neighbors.\n",
    "Regression: predicting or projecting data values based on the average mean of existing and planned data including Linear and Logistic Regression.\n",
    "Clustering: automatic grouping of similar data into datasets including K-Means and K-Means++.\n"
   ]
  },
  {
   "cell_type": "markdown",
   "metadata": {},
   "source": [
    "(Algorithm 2)"
   ]
  },
  {
   "cell_type": "markdown",
   "metadata": {},
   "source": [
    "(Algorithm 3)"
   ]
  }
 ],
 "metadata": {
  "kernelspec": {
   "display_name": "Python 3 (ipykernel)",
   "language": "python",
   "name": "python3"
  },
  "language_info": {
   "codemirror_mode": {
    "name": "ipython",
    "version": 3
   },
   "file_extension": ".py",
   "mimetype": "text/x-python",
   "name": "python",
   "nbconvert_exporter": "python",
   "pygments_lexer": "ipython3",
   "version": "3.9.7"
  }
 },
 "nbformat": 4,
 "nbformat_minor": 4
}
