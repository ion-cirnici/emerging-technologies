{
 "cells": [
  {
   "cell_type": "markdown",
   "metadata": {},
   "source": [
    "* \n",
    "## A clear and concise comparison of quantum computing and classical computing\n",
    "* \n",
    "The major difference between classical computer and quantum computing technology which makes quantum computing much faster because uses ones and zeros going through the process and can be used for big data analysis or simulations while classical computer uses qubit(or quantum bit)"
   ]
  },
  {
   "cell_type": "markdown",
   "metadata": {},
   "source": [
    "* \n",
    "## Explanation of Deutsch’s algorithm and code simulating it using qiskit\n",
    "* \n"
   ]
  }
 ],
 "metadata": {
  "kernelspec": {
   "display_name": "Python 3 (ipykernel)",
   "language": "python",
   "name": "python3"
  },
  "language_info": {
   "codemirror_mode": {
    "name": "ipython",
    "version": 3
   },
   "file_extension": ".py",
   "mimetype": "text/x-python",
   "name": "python",
   "nbconvert_exporter": "python",
   "pygments_lexer": "ipython3",
   "version": "3.9.7"
  }
 },
 "nbformat": 4,
 "nbformat_minor": 4
}
