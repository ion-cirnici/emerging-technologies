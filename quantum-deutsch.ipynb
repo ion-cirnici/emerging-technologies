{
 "cells": [
  {
   "cell_type": "markdown",
   "metadata": {},
   "source": [
    "## What is a Quantum Computer ?"
   ]
  },
  {
   "cell_type": "markdown",
   "metadata": {},
   "source": [
    "Quantum Computers are machines which use the quantum physics properties for storing data and perform computations.\n",
    "The major difference between classical computer and quantum computing technology which makes quantum computing much faster because uses ones and zeros going through the process and can be used for big data analysis or simulations while classical computer uses qubit(or quantum bit)\n"
   ]
  },
  {
   "cell_type": "markdown",
   "metadata": {},
   "source": [
    "* \n",
    "## Explanation of Deutsch’s algorithm and code simulating it using qiskit\n",
    "* \n",
    "The Deutsch-Jozsa Algorithm was first proposed by David Deutsch and Richard Jozsa in 1992 which was the first algorithm as evidence that a quantum computer could exceed classical computers.\n",
    "For example we have a “black box function” (unknown function)— which we know must either be “constant” (returning the same value for any input) or “balanced” (returning one of two different outputs with equal probability). We want to find out which of the two is it.\n",
    "Now of course, this at first look, may seem like a impossible problem to be solved.\n",
    "If the function has n possible inputs, the classical computer would have to try just over half of all possible inputs (2^(n-1) + 1, to be specific) until it can be absolutely certain that that is the only possible answer.\n",
    "So, while the problem the computer is trying to solve is realistically impractical, it is interesting because it demonstrates the very essence of what we hope quantum computers will be able to one day do.\n",
    "### What is the algorithm?\n",
    "1. Initialize two quantum registers (sets of qubits). The first consists of n qubits each initialized to |0>. The second just has one qubit initialized to |1>.\n",
    "2. Apply Hadamard gates to each qubit in both registers.\n",
    "3. Pass it through the quantum oracle (the black box function).\n",
    "4. Apply the Hadamard gate to each qubit in the first register.\n",
    "5. Measure each qubit in the first register, thus measuring the overall quantum state.\n",
    "6. If we measure the state |00…0>, we know it is constant. If we measure anything else, we know it is balanced."
   ]
  },
  {
   "cell_type": "markdown",
   "metadata": {},
   "source": [
    "# Difference between Quantum Computing and Classical Computing"
   ]
  },
  {
   "cell_type": "markdown",
   "metadata": {},
   "source": [
    "![Quantum_computing_classical_qubi](https://research-assets.cbinsights.com/2020/12/22124918/Quantum_computing_classical_qubit_infographic_122020.png)"
   ]
  }
 ],
 "metadata": {
  "kernelspec": {
   "display_name": "Python 3 (ipykernel)",
   "language": "python",
   "name": "python3"
  },
  "language_info": {
   "codemirror_mode": {
    "name": "ipython",
    "version": 3
   },
   "file_extension": ".py",
   "mimetype": "text/x-python",
   "name": "python",
   "nbconvert_exporter": "python",
   "pygments_lexer": "ipython3",
   "version": "3.9.7"
  }
 },
 "nbformat": 4,
 "nbformat_minor": 4
}
